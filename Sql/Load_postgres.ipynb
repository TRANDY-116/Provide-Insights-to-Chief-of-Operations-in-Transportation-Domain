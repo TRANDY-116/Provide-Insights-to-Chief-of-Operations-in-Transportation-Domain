{
 "cells": [
  {
   "cell_type": "code",
   "execution_count": 2,
   "id": "f906d801-66a3-4816-9cf1-41e56fec9cf7",
   "metadata": {},
   "outputs": [
    {
     "name": "stdout",
     "output_type": "stream",
     "text": [
      "Conversion complete. Saved as trips_db_p.sql\n"
     ]
    }
   ],
   "source": [
    "import re\n",
    "\n",
    "# File paths\n",
    "input_file = \"C:\\\\Users\\\\RANDY\\\\Desktop\\\\RPC13_Input_For_Participants\\\\datasets\\\\database\\\\trips_db.sql\"\n",
    "output_file = \"trips_db_p.sql\"\n",
    "\n",
    "# Read the original file\n",
    "with open(input_file, 'r') as file:\n",
    "    content = file.read()\n",
    "\n",
    "# Replace backticks with double quotes\n",
    "# Handles cases where backticks enclose identifiers\n",
    "content = re.sub(r'`([^`]*)`', r'\"\\1\"', content)\n",
    "\n",
    "# Write the modified content to a new file\n",
    "with open(output_file, 'w') as file:\n",
    "    file.write(content)\n",
    "\n",
    "print(f\"Conversion complete. Saved as {output_file}\")\n"
   ]
  },
  {
   "cell_type": "code",
   "execution_count": 3,
   "id": "f819df80-5025-40b1-9d96-bea84b8b838f",
   "metadata": {},
   "outputs": [
    {
     "name": "stdout",
     "output_type": "stream",
     "text": [
      "Conversion complete. Saved as target_db_p.sql\n"
     ]
    }
   ],
   "source": [
    "# File paths\n",
    "input_file = \"C:\\\\Users\\\\RANDY\\\\Desktop\\\\RPC13_Input_For_Participants\\\\datasets\\\\database\\\\targets_db.sql\"\n",
    "output_file = \"target_db_p.sql\"\n",
    "\n",
    "# Read the original file\n",
    "with open(input_file, 'r') as file:\n",
    "    content = file.read()\n",
    "\n",
    "# Replace backticks with double quotes\n",
    "# Handles cases where backticks enclose identifiers\n",
    "content = re.sub(r'`([^`]*)`', r'\"\\1\"', content)\n",
    "\n",
    "# Write the modified content to a new file\n",
    "with open(output_file, 'w') as file:\n",
    "    file.write(content)\n",
    "\n",
    "print(f\"Conversion complete. Saved as {output_file}\")\n"
   ]
  },
  {
   "cell_type": "code",
   "execution_count": null,
   "id": "072c2f3e-69dd-454e-bff0-760322de9fa6",
   "metadata": {},
   "outputs": [],
   "source": []
  }
 ],
 "metadata": {
  "kernelspec": {
   "display_name": "Python 3 (ipykernel)",
   "language": "python",
   "name": "python3"
  },
  "language_info": {
   "codemirror_mode": {
    "name": "ipython",
    "version": 3
   },
   "file_extension": ".py",
   "mimetype": "text/x-python",
   "name": "python",
   "nbconvert_exporter": "python",
   "pygments_lexer": "ipython3",
   "version": "3.10.0"
  }
 },
 "nbformat": 4,
 "nbformat_minor": 5
}
